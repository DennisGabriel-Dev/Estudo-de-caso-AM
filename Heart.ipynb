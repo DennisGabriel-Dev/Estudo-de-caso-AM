{
  "nbformat": 4,
  "nbformat_minor": 0,
  "metadata": {
    "colab": {
      "provenance": [],
      "authorship_tag": "ABX9TyMl6CijeOIZYkjlm2e+1gjo",
      "include_colab_link": true
    },
    "kernelspec": {
      "name": "python3",
      "display_name": "Python 3"
    },
    "language_info": {
      "name": "python"
    }
  },
  "cells": [
    {
      "cell_type": "markdown",
      "metadata": {
        "id": "view-in-github",
        "colab_type": "text"
      },
      "source": [
        "<a href=\"https://colab.research.google.com/github/DennisGabriel-Dev/Estudo-de-caso-AM/blob/main/Heart.ipynb\" target=\"_parent\"><img src=\"https://colab.research.google.com/assets/colab-badge.svg\" alt=\"Open In Colab\"/></a>"
      ]
    },
    {
      "cell_type": "code",
      "source": [
        "import pandas as pd\n",
        "from sklearn.model_selection import train_test_split\n",
        "from sklearn.preprocessing import StandardScaler, LabelEncoder\n",
        "from sklearn.metrics import classification_report, confusion_matrix, accuracy_score\n",
        "from sklearn.neighbors import KNeighborsClassifier\n",
        "from sklearn.svm import SVC\n",
        "from sklearn.ensemble import RandomForestClassifier\n",
        "from sklearn.linear_model import LogisticRegression\n",
        "from sklearn.cluster import KMeans"
      ],
      "metadata": {
        "id": "KpI-5V0NuY2C"
      },
      "execution_count": null,
      "outputs": []
    },
    {
      "cell_type": "markdown",
      "source": [
        "### Carregando a base"
      ],
      "metadata": {
        "id": "Vb3lt1o-w8aa"
      }
    },
    {
      "cell_type": "code",
      "source": [
        "df = pd.read_csv('heart.csv')"
      ],
      "metadata": {
        "id": "MQg_fff0vBm8"
      },
      "execution_count": null,
      "outputs": []
    },
    {
      "cell_type": "markdown",
      "source": [
        "### Pré-processamento"
      ],
      "metadata": {
        "id": "FsmOJ1cRw95_"
      }
    },
    {
      "cell_type": "code",
      "source": [
        "for col in ['Sex', 'ChestPainType', 'RestingECG', 'ExerciseAngina', 'ST_Slope']:\n",
        "    le = LabelEncoder()\n",
        "    df[col] = le.fit_transform(df[col])"
      ],
      "metadata": {
        "id": "gwQFARx3vFAz"
      },
      "execution_count": null,
      "outputs": []
    },
    {
      "cell_type": "markdown",
      "source": [
        "### Separar features e target"
      ],
      "metadata": {
        "id": "xGqt1ltBxFoI"
      }
    },
    {
      "cell_type": "code",
      "source": [
        "X = df.drop('HeartDisease', axis=1)\n",
        "y = df['HeartDisease']"
      ],
      "metadata": {
        "id": "Hsotzvbgw7de"
      },
      "execution_count": null,
      "outputs": []
    },
    {
      "cell_type": "markdown",
      "source": [
        "### Padronizar os dados"
      ],
      "metadata": {
        "id": "17pXBVjixLgL"
      }
    },
    {
      "cell_type": "code",
      "source": [
        "scaler = StandardScaler()\n",
        "X_scaled = scaler.fit_transform(X)"
      ],
      "metadata": {
        "id": "o47svisUxI87"
      },
      "execution_count": null,
      "outputs": []
    },
    {
      "cell_type": "markdown",
      "source": [
        "### Separar treino e teste"
      ],
      "metadata": {
        "id": "GO3TcfbAxM-R"
      }
    },
    {
      "cell_type": "code",
      "source": [
        "X_train, X_test, y_train, y_test = train_test_split(X_scaled, y, test_size=0.2, random_state=42)"
      ],
      "metadata": {
        "id": "KePDIjnzxRoB"
      },
      "execution_count": null,
      "outputs": []
    },
    {
      "cell_type": "markdown",
      "source": [
        "### Aplicando KNN"
      ],
      "metadata": {
        "id": "96CKq03UxXZc"
      }
    },
    {
      "cell_type": "code",
      "source": [
        "knn = KNeighborsClassifier(n_neighbors=5)\n",
        "knn.fit(X_train, y_train)\n",
        "y_pred_knn = knn.predict(X_test)\n",
        "print(\"KNN:\\n\", classification_report(y_test, y_pred_knn))"
      ],
      "metadata": {
        "colab": {
          "base_uri": "https://localhost:8080/"
        },
        "id": "VI3hjIzzxZGY",
        "outputId": "ae8bddf2-5973-469d-c1b2-b05bf6534f25"
      },
      "execution_count": null,
      "outputs": [
        {
          "output_type": "stream",
          "name": "stdout",
          "text": [
            "KNN:\n",
            "               precision    recall  f1-score   support\n",
            "\n",
            "           0       0.78      0.88      0.83        77\n",
            "           1       0.91      0.82      0.86       107\n",
            "\n",
            "    accuracy                           0.85       184\n",
            "   macro avg       0.84      0.85      0.85       184\n",
            "weighted avg       0.85      0.85      0.85       184\n",
            "\n"
          ]
        }
      ]
    },
    {
      "cell_type": "markdown",
      "source": [
        "### Aplicando SVM"
      ],
      "metadata": {
        "id": "rGAW07ywxjvy"
      }
    },
    {
      "cell_type": "code",
      "source": [
        "svm = SVC(kernel='rbf', probability=True)\n",
        "svm.fit(X_train, y_train)\n",
        "y_pred_svm = svm.predict(X_test)\n",
        "print(\"SVM:\\n\", classification_report(y_test, y_pred_svm))"
      ],
      "metadata": {
        "colab": {
          "base_uri": "https://localhost:8080/"
        },
        "id": "fTb8XRKHxlh5",
        "outputId": "67a402b5-c60a-4039-853a-552dd357efe5"
      },
      "execution_count": null,
      "outputs": [
        {
          "output_type": "stream",
          "name": "stdout",
          "text": [
            "SVM:\n",
            "               precision    recall  f1-score   support\n",
            "\n",
            "           0       0.82      0.86      0.84        77\n",
            "           1       0.89      0.87      0.88       107\n",
            "\n",
            "    accuracy                           0.86       184\n",
            "   macro avg       0.86      0.86      0.86       184\n",
            "weighted avg       0.87      0.86      0.86       184\n",
            "\n"
          ]
        }
      ]
    },
    {
      "cell_type": "markdown",
      "source": [
        "### Aplicando Random Forest"
      ],
      "metadata": {
        "id": "z_IU9mnKx8Li"
      }
    },
    {
      "cell_type": "code",
      "source": [
        "rf = RandomForestClassifier(n_estimators=100, random_state=42)\n",
        "rf.fit(X_train, y_train)\n",
        "y_pred_rf = rf.predict(X_test)\n",
        "print(\"Random Forest:\\n\", classification_report(y_test, y_pred_rf))"
      ],
      "metadata": {
        "colab": {
          "base_uri": "https://localhost:8080/"
        },
        "id": "zTU1TyNVxvnF",
        "outputId": "2c8cc4a1-8add-41be-e89b-508bff71ff1e"
      },
      "execution_count": null,
      "outputs": [
        {
          "output_type": "stream",
          "name": "stdout",
          "text": [
            "Random Forest:\n",
            "               precision    recall  f1-score   support\n",
            "\n",
            "           0       0.86      0.86      0.86        77\n",
            "           1       0.90      0.90      0.90       107\n",
            "\n",
            "    accuracy                           0.88       184\n",
            "   macro avg       0.88      0.88      0.88       184\n",
            "weighted avg       0.88      0.88      0.88       184\n",
            "\n"
          ]
        }
      ]
    },
    {
      "cell_type": "markdown",
      "source": [
        "### Aplicando regressão logística"
      ],
      "metadata": {
        "id": "8_fl9I93yEQ7"
      }
    },
    {
      "cell_type": "code",
      "source": [
        "lr = LogisticRegression()\n",
        "lr.fit(X_train, y_train)\n",
        "y_pred_lr = lr.predict(X_test)\n",
        "print(\"Logistic Regression:\\n\", classification_report(y_test, y_pred_lr))"
      ],
      "metadata": {
        "colab": {
          "base_uri": "https://localhost:8080/"
        },
        "id": "ZAnGEerSyGkd",
        "outputId": "22ef966a-dde7-46e3-eff1-90778b35cb74"
      },
      "execution_count": null,
      "outputs": [
        {
          "output_type": "stream",
          "name": "stdout",
          "text": [
            "Logistic Regression:\n",
            "               precision    recall  f1-score   support\n",
            "\n",
            "           0       0.78      0.88      0.83        77\n",
            "           1       0.91      0.82      0.86       107\n",
            "\n",
            "    accuracy                           0.85       184\n",
            "   macro avg       0.84      0.85      0.85       184\n",
            "weighted avg       0.85      0.85      0.85       184\n",
            "\n"
          ]
        }
      ]
    },
    {
      "cell_type": "markdown",
      "source": [
        "### Aplicando K-means (Não supervisionado)"
      ],
      "metadata": {
        "id": "jWV23aK3yNuL"
      }
    },
    {
      "cell_type": "code",
      "source": [
        "kmeans = KMeans(n_clusters=2, random_state=42)\n",
        "clusters = kmeans.fit_predict(X_scaled)\n",
        "df['Cluster'] = clusters\n",
        "print(df.groupby('Cluster')['HeartDisease'].value_counts(normalize=True))"
      ],
      "metadata": {
        "colab": {
          "base_uri": "https://localhost:8080/"
        },
        "id": "Ylh7CvjsyTcy",
        "outputId": "9add1c63-76e3-4500-b387-059a5cc94fb2"
      },
      "execution_count": null,
      "outputs": [
        {
          "output_type": "stream",
          "name": "stdout",
          "text": [
            "Cluster  HeartDisease\n",
            "0        1               0.890869\n",
            "         0               0.109131\n",
            "1        0               0.769723\n",
            "         1               0.230277\n",
            "Name: proportion, dtype: float64\n"
          ]
        }
      ]
    },
    {
      "cell_type": "markdown",
      "source": [
        "### Gráfico para análise e comparação entre os algoritmos"
      ],
      "metadata": {
        "id": "RPNNYbwT0be0"
      }
    },
    {
      "cell_type": "code",
      "source": [
        "import matplotlib.pyplot as plt\n",
        "import seaborn as sns\n",
        "from sklearn.metrics import accuracy_score, precision_score, recall_score, f1_score\n",
        "\n",
        "# Supondo que você já tenha as predições de cada modelo:\n",
        "# y_pred_knn, y_pred_svm, y_pred_rf, y_pred_lr\n",
        "# E o y_test\n",
        "\n",
        "# Calcule as métricas\n",
        "results = {\n",
        "    'KNN': {\n",
        "        'Acurácia': accuracy_score(y_test, y_pred_knn),\n",
        "        'Precisão': precision_score(y_test, y_pred_knn),\n",
        "        'Recall': recall_score(y_test, y_pred_knn),\n",
        "        'F1-score': f1_score(y_test, y_pred_knn)\n",
        "    },\n",
        "    'SVM': {\n",
        "        'Acurácia': accuracy_score(y_test, y_pred_svm),\n",
        "        'Precisão': precision_score(y_test, y_pred_svm),\n",
        "        'Recall': recall_score(y_test, y_pred_svm),\n",
        "        'F1-score': f1_score(y_test, y_pred_svm)\n",
        "    },\n",
        "    'Random Forest': {\n",
        "        'Acurácia': accuracy_score(y_test, y_pred_rf),\n",
        "        'Precisão': precision_score(y_test, y_pred_rf),\n",
        "        'Recall': recall_score(y_test, y_pred_rf),\n",
        "        'F1-score': f1_score(y_test, y_pred_rf)\n",
        "    },\n",
        "    'Logistic Regression': {\n",
        "        'Acurácia': accuracy_score(y_test, y_pred_lr),\n",
        "        'Precisão': precision_score(y_test, y_pred_lr),\n",
        "        'Recall': recall_score(y_test, y_pred_lr),\n",
        "        'F1-score': f1_score(y_test, y_pred_lr)\n",
        "    }\n",
        "}\n",
        "\n",
        "results"
      ],
      "metadata": {
        "colab": {
          "base_uri": "https://localhost:8080/"
        },
        "id": "Jo9hMg0J6jBa",
        "outputId": "a20a0fe1-b616-4b9b-a582-eba79527dd7b"
      },
      "execution_count": null,
      "outputs": [
        {
          "output_type": "execute_result",
          "data": {
            "text/plain": [
              "{'KNN': {'Acurácia': 0.8478260869565217,\n",
              "  'Precisão': 0.9072164948453608,\n",
              "  'Recall': 0.822429906542056,\n",
              "  'F1-score': 0.8627450980392157},\n",
              " 'SVM': {'Acurácia': 0.8641304347826086,\n",
              "  'Precisão': 0.8942307692307693,\n",
              "  'Recall': 0.8691588785046729,\n",
              "  'F1-score': 0.8815165876777251},\n",
              " 'Random Forest': {'Acurácia': 0.8804347826086957,\n",
              "  'Precisão': 0.897196261682243,\n",
              "  'Recall': 0.897196261682243,\n",
              "  'F1-score': 0.897196261682243},\n",
              " 'Logistic Regression': {'Acurácia': 0.8478260869565217,\n",
              "  'Precisão': 0.9072164948453608,\n",
              "  'Recall': 0.822429906542056,\n",
              "  'F1-score': 0.8627450980392157}}"
            ]
          },
          "metadata": {},
          "execution_count": 68
        }
      ]
    },
    {
      "cell_type": "code",
      "source": [
        "import matplotlib.pyplot as plt\n",
        "import seaborn as sns\n",
        "df_results = pd.DataFrame(results).T\n",
        "# Transforma para formato longo\n",
        "df_long = df_results.reset_index().melt(id_vars='index', var_name='Métrica', value_name='Valor')\n",
        "df_long = df_long.rename(columns={'index': 'Algoritmo'})\n",
        "\n",
        "plt.figure(figsize=(10,6))\n",
        "sns.barplot(data=df_long, x='Algoritmo', y='Valor', hue='Métrica', palette='Set2')\n",
        "plt.title('Comparação de Métricas dos Algoritmos')\n",
        "plt.ylabel('Valor')\n",
        "plt.ylim(0,1)\n",
        "plt.legend(title='Métrica')\n",
        "plt.xticks(rotation=15)\n",
        "plt.tight_layout()\n",
        "plt.show()"
      ],
      "metadata": {
        "colab": {
          "base_uri": "https://localhost:8080/",
          "height": 606
        },
        "id": "BLUGWnvB79Uz",
        "outputId": "153bfad2-2747-4ca6-bdf6-96348415b39c"
      },
      "execution_count": null,
      "outputs": [
        {
          "output_type": "display_data",
          "data": {
            "text/plain": [
              "<Figure size 1000x600 with 1 Axes>"
            ],
            "image/png": "[encoded data removed]"
          },
          "metadata": {}
        }
      ]
    }
  ]
}